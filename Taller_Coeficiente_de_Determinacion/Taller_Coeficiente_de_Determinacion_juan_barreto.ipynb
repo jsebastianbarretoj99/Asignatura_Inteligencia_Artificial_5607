{
 "cells": [
  {
   "cell_type": "markdown",
   "source": [
    "<a href=\"https://colab.research.google.com/github/jsebastianbarretoj99/Asignatura_Inteligencia_Artificial_5607/blob/master/Taller_Coeficiente_de_Determinacion/Taller_Coeficiente_de_Determinacion_juan_barreto.ipynb\" target=\"_parent\"><img src=\"https://colab.research.google.com/assets/colab-badge.svg\" alt=\"Open In Colab\"/></a>"
   ],
   "metadata": {}
  },
  {
   "cell_type": "markdown",
   "source": [
    "# Workshop - Coefficient of determination"
   ],
   "metadata": {}
  },
  {
   "cell_type": "markdown",
   "source": [
    "Student: Juan Sebastián Barreto Jimenez"
   ],
   "metadata": {}
  },
  {
   "cell_type": "code",
   "execution_count": 1,
   "source": [
    "# Imports of the necessary libraries are carried out\n",
    "from matplotlib import pyplot as plt\n",
    "import numpy as np"
   ],
   "outputs": [],
   "metadata": {}
  },
  {
   "cell_type": "code",
   "execution_count": 2,
   "source": [
    "#   Function: hypothesis() \n",
    "#   Purpose: Calculate the linear regression hypothesis\n",
    "#   Argument:\n",
    "#       theta_0: Parameter theta 0\n",
    "#       theta_1: Parameter theta 1\n",
    "#       x: evaluated feature\n",
    "#   Return:\n",
    "#       hypothesis of lineal regression\n",
    "def hypothesis(theta_0, theta_1, x):\n",
    "    return theta_0 + theta_1*x"
   ],
   "outputs": [],
   "metadata": {}
  },
  {
   "cell_type": "code",
   "execution_count": 3,
   "source": [
    "#   Function: cost_v2() \n",
    "#   Purpose: Calculate cost function\n",
    "#   Argument:\n",
    "#       parameters: Array with parameters theta 0 and theta 1\n",
    "#       features: Array with features of data-set\n",
    "#       labels: Array with labels of data-set\n",
    "#   Return:\n",
    "#       Value of cost function\n",
    "def cost_v2(parameters, features, labels):\n",
    "    j = ((hypothesis(parameters[0], parameters[1], features)-labels)**2)\n",
    "    return np.sum(j)/(2*len(features));"
   ],
   "outputs": [],
   "metadata": {}
  },
  {
   "cell_type": "code",
   "execution_count": 4,
   "source": [
    "#   Function: grid_search_parameters() \n",
    "#   Purpose: Calculate parameters theta 0 and theta 1 in grid search\n",
    "#   Argument:\n",
    "#       features: Array with features of data-set\n",
    "#       labels: Array with labels of data-set\n",
    "#   Return:\n",
    "#       Array with parameters theta 0 and theta 1\n",
    "def grid_search_parameters(features, labels):\n",
    "    # Variable creation for calculate parameters theta 0 and theta 1 in grid search\n",
    "    min_j, min_aux, theta_0_min, theta_1_min = 99999, 0, 0, 0\n",
    "    for i in np.arange(-3,3,0.01):\n",
    "        for j in np.arange(-3,3,0.01):\n",
    "            min_aux = cost_v2(np.array([i, j]),features,labels)\n",
    "            if(min_aux < min_j):\n",
    "                min_j, theta_0_min, theta_1_min = min_aux, i, j\n",
    "    return np.array([theta_0_min, theta_1_min])"
   ],
   "outputs": [],
   "metadata": {}
  },
  {
   "cell_type": "code",
   "execution_count": 5,
   "source": [
    "# Variable creation\n",
    "# For data-set\n",
    "features = np.arange(1,6.5,0.5)\n",
    "labels = np.array([0.169610271922408, 0.283395812542308, 0.386358737510785, 0.470227872390909, 0.433281293764675, 0.600267648212653, 0.738338980436742, 0.790315020494445, 0.877464268422459, 0.84356446225183, 0.96443891694455],float)"
   ],
   "outputs": [],
   "metadata": {}
  },
  {
   "cell_type": "code",
   "execution_count": 7,
   "source": [
    "# Calculate parameters theta 0 and theta 1 in grid search\n",
    "theta = grid_search_parameters(features, labels)\n",
    "# Theta 0 and theta 1 are displayed calculated\n",
    "print(\"theta_0:\", theta[0],\"thetha_1:\", theta[1], \"Funcion de costo =\",cost_v2(theta, features, labels))"
   ],
   "outputs": [
    {
     "output_type": "stream",
     "name": "stdout",
     "text": [
      "theta_0: 0.0399999999999352 thetha_1: 0.15999999999993264 Funcion de costo = 0.0010407623021767825\n"
     ]
    }
   ],
   "metadata": {}
  },
  {
   "cell_type": "code",
   "execution_count": 8,
   "source": [
    "# Test the linea regression with theta 0 and theta 1 calculated\n",
    "labels_estimator = np.array([]);\n",
    "\n",
    "for i in features:\n",
    "    labels_estimator = np.append(labels_estimator, hypothesis(theta[0], theta[1], i))"
   ],
   "outputs": [],
   "metadata": {}
  },
  {
   "cell_type": "code",
   "execution_count": 9,
   "source": [
    "# Features are graphed with dataset labels and estimates\n",
    "plt.plot(features,labels) # Plot labels vs features\n",
    "plt.plot(features,labels_estimator) # Plot labels_estimator vs features\n",
    "plt.xlabel('Features: Voltage(V)') # Set x label\n",
    "plt.ylabel('Labels: Current(A)') # Set y label\n",
    "plt.title('Regresión Lineal') # Set title\n",
    "plt.xlim(1.0, 6.0) # Set x limits\n",
    "plt.ylim(0, 1.2) # Set y limits\n",
    "plt.grid() # On grid\n",
    "plt.show() # Show graph"
   ],
   "outputs": [
    {
     "output_type": "display_data",
     "data": {
      "image/png": "[encoded data removed]",
      "text/plain": [
       "<Figure size 432x288 with 1 Axes>"
      ]
     },
     "metadata": {
      "needs_background": "light"
     }
    }
   ],
   "metadata": {}
  },
  {
   "cell_type": "code",
   "execution_count": 12,
   "source": [
    "rss = np.sum((labels - labels_estimator)**2)\n",
    "prom_labels_estimator = np.mean(labels_estimator)\n",
    "tss = np.sum((labels - prom_labels_estimator)**2)\n",
    "\n",
    "r_two = 1 - (rss/tss)\n",
    "\n",
    "print(\"Coeficiente de determinación:\", r_two)"
   ],
   "outputs": [
    {
     "output_type": "stream",
     "name": "stdout",
     "text": [
      "Coeficiente de determinación: 0.967301323490383\n"
     ]
    }
   ],
   "metadata": {}
  }
 ],
 "metadata": {
  "orig_nbformat": 4,
  "language_info": {
   "name": "python",
   "version": "3.8.10",
   "mimetype": "text/x-python",
   "codemirror_mode": {
    "name": "ipython",
    "version": 3
   },
   "pygments_lexer": "ipython3",
   "nbconvert_exporter": "python",
   "file_extension": ".py"
  },
  "kernelspec": {
   "name": "python3",
   "display_name": "Python 3.8.10 64-bit"
  },
  "interpreter": {
   "hash": "916dbcbb3f70747c44a77c7bcd40155683ae19c65e1c03b4aa3499c5328201f1"
  }
 },
 "nbformat": 4,
 "nbformat_minor": 2
}