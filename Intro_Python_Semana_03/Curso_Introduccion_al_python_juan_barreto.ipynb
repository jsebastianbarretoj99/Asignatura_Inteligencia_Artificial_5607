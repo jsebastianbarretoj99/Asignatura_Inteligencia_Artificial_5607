{
  "nbformat": 4,
  "nbformat_minor": 2,
  "metadata": {
    "kernelspec": {
      "name": "python3",
      "display_name": "Python 3.8.10 64-bit"
    },
    "language_info": {
      "codemirror_mode": {
        "name": "ipython",
        "version": 3
      },
      "file_extension": ".py",
      "mimetype": "text/x-python",
      "name": "python",
      "nbconvert_exporter": "python",
      "pygments_lexer": "ipython3",
      "version": "3.8.10"
    },
    "colab": {
      "name": "Curso_Introduccion_al_python.ipynb",
      "provenance": [],
      "include_colab_link": true
    },
    "interpreter": {
      "hash": "916dbcbb3f70747c44a77c7bcd40155683ae19c65e1c03b4aa3499c5328201f1"
    }
  },
  "cells": [
    {
      "cell_type": "markdown",
      "source": [
        "<a href=\"https://colab.research.google.com/github/jsebastianbarretoj99/Asignatura_Inteligencia_Artificial_5607/blob/master/Intro_Python_Semana_03/Curso_Introduccion_al_python_juan_barreto.ipynb\" target=\"_parent\"><img src=\"https://colab.research.google.com/assets/colab-badge.svg\" alt=\"Open In Colab\"/></a>"
      ],
      "metadata": {
        "id": "view-in-github",
        "colab_type": "text"
      }
    },
    {
      "cell_type": "markdown",
      "source": [
        "# Introducción al python"
      ],
      "metadata": {
        "id": "-vQSZU7Kfb8f"
      }
    },
    {
      "cell_type": "markdown",
      "source": [
        "Estudiante: Juan Sebastián Barreto Jimenez"
      ],
      "metadata": {}
    },
    {
      "cell_type": "markdown",
      "source": [
        "## Hola mundo"
      ],
      "metadata": {
        "id": "KA71QoBQfb8l"
      }
    },
    {
      "cell_type": "code",
      "execution_count": 2,
      "source": [
        "print(\"Hello world\")\n",
        "print(\"Hello\",\"World\")#note la falta de espacio\n",
        "print(\"Hello\"+\" World\")"
      ],
      "outputs": [
        {
          "output_type": "stream",
          "name": "stdout",
          "text": [
            "Hello world\n",
            "Hello World\n",
            "Hello World\n"
          ]
        }
      ],
      "metadata": {
        "id": "Am5okGnXfb8m",
        "outputId": "ed0a924b-7575-4963-e2ad-f0fee795be39"
      }
    },
    {
      "cell_type": "markdown",
      "source": [
        "## Condicionales"
      ],
      "metadata": {
        "id": "ZoX5m6U_fb8o"
      }
    },
    {
      "cell_type": "code",
      "execution_count": 5,
      "source": [
        "#Forma 1\n",
        "if 1+1==2:\n",
        "    print(\"Hola\")\n",
        "    print(\"Soy la opción 1\")\n",
        "    x=42\n",
        "#Forma 2\n",
        "if 1+1==2:\n",
        "    print(\"Hello\");print(\"Soy la opción 2\");x=42\n",
        "#Forma 3\n",
        "if 1+1==2:print(\"Hi\");print(\"Soy 'la' opción 3\");x=42"
      ],
      "outputs": [
        {
          "output_type": "stream",
          "name": "stdout",
          "text": [
            "Hola\n",
            "Soy la opción 1\n",
            "Hello\n",
            "Soy la opción 2\n",
            "Hi\n",
            "Soy 'la' opción 3\n"
          ]
        }
      ],
      "metadata": {
        "id": "2KqMOr-2fb8o",
        "outputId": "a15fba27-dfbb-4fa3-a217-4610b2a5b7a8"
      }
    },
    {
      "cell_type": "code",
      "execution_count": 7,
      "source": [
        "#name = \"Sebas\" # asignación de un valor a la variable  \n",
        "name = input(\"Ingrese su nombre: \")\n",
        "if name == \"Sebas\":\n",
        "\tprint (\"yeiii Sebas\") \n",
        "\tprint (u'¿Qué tal estás?')\n",
        "else:\n",
        "\tprint (u'¿Quién eres?')\n",
        "\tprint (u'¡No eres Sebas!')"
      ],
      "outputs": [
        {
          "output_type": "stream",
          "name": "stdout",
          "text": [
            "¿Quién eres?\n",
            "¡No eres Sebas!\n"
          ]
        }
      ],
      "metadata": {
        "id": "jezSzihbfb8o",
        "outputId": "e2228dbb-774d-422e-df90-3ef1b829d466"
      }
    },
    {
      "cell_type": "markdown",
      "source": [
        "## Tipos de datos numericos"
      ],
      "metadata": {
        "id": "OcwmZqLWfb8p"
      }
    },
    {
      "cell_type": "code",
      "execution_count": 8,
      "source": [
        "x=4\n",
        "print(int(x))\n",
        "#long(x)#solo en versiones antiguas\n",
        "#long(x)#solo en versiones antiguas\n",
        "print(float(x))\n",
        "c=complex (4, .2) \n",
        "print(c)\n",
        "d=c.real+c.imag \n",
        "print(d)"
      ],
      "outputs": [
        {
          "output_type": "stream",
          "name": "stdout",
          "text": [
            "4\n",
            "4.0\n",
            "(4+0.2j)\n",
            "4.2\n"
          ]
        }
      ],
      "metadata": {
        "id": "xQziN7hrfb8p",
        "outputId": "8f991fc9-1ca7-4ec5-bbed-54dacb1454b7"
      }
    },
    {
      "cell_type": "markdown",
      "source": [
        "Ejercicio:\n",
        "usar el comando dir, para listar que metodos hay disponibles en el tipo de dato complejo ayuda:dir(c), preguntar si no tiene claro al final de la presentación por que unos tienen el doble __ en el nombre por ejemplo usar c.__abs__() \n",
        "    "
      ],
      "metadata": {
        "id": "o4TslOA7fb8q"
      }
    },
    {
      "cell_type": "code",
      "execution_count": 121,
      "source": [
        "#dir(c)\n",
        "print(c.__abs__())\n",
        "print(c.conjugate())\n",
        "c.__add__(4+0.2j)"
      ],
      "outputs": [
        {
          "output_type": "stream",
          "name": "stdout",
          "text": [
            "4.004996878900157\n",
            "(4-0.2j)\n"
          ]
        },
        {
          "output_type": "execute_result",
          "data": {
            "text/plain": [
              "(8+0.4j)"
            ]
          },
          "metadata": {},
          "execution_count": 121
        }
      ],
      "metadata": {
        "id": "kcXY8fKTfb8q"
      }
    },
    {
      "cell_type": "markdown",
      "source": [],
      "metadata": {}
    },
    {
      "cell_type": "markdown",
      "source": [
        "## Un poco de clases"
      ],
      "metadata": {}
    },
    {
      "cell_type": "markdown",
      "source": [
        "Clase basica de un perro con atributos de instancia y constructor"
      ],
      "metadata": {}
    },
    {
      "cell_type": "code",
      "execution_count": 37,
      "source": [
        "class Dog:\n",
        "\n",
        "    def __init__(self, name):\n",
        "        self.name = name\n",
        "        self.tricks = []    # creates a new empty list for each dog\n",
        "\n",
        "    def add_trick(self, trick):\n",
        "        self.tricks.append(trick)"
      ],
      "outputs": [],
      "metadata": {}
    },
    {
      "cell_type": "markdown",
      "source": [
        "Se miran los atributos de la clase Dog con dir(Dog)"
      ],
      "metadata": {}
    },
    {
      "cell_type": "code",
      "execution_count": 48,
      "source": [
        "print(dir(Dog))"
      ],
      "outputs": [
        {
          "output_type": "stream",
          "name": "stdout",
          "text": [
            "['__class__', '__delattr__', '__dict__', '__dir__', '__doc__', '__eq__', '__format__', '__ge__', '__getattribute__', '__gt__', '__hash__', '__init__', '__init_subclass__', '__le__', '__lt__', '__module__', '__ne__', '__new__', '__reduce__', '__reduce_ex__', '__repr__', '__setattr__', '__sizeof__', '__str__', '__subclasshook__', '__weakref__', 'add_trick']\n"
          ]
        }
      ],
      "metadata": {}
    },
    {
      "cell_type": "markdown",
      "source": [
        "Instanciación de dos objetos de tipo Dog"
      ],
      "metadata": {}
    },
    {
      "cell_type": "code",
      "execution_count": 62,
      "source": [
        "d = Dog('Fido')\n",
        "e = Dog('Buddy')\n",
        "d.add_trick('roll over')\n",
        "e.add_trick('play dead')\n",
        "print(d.tricks)\n",
        "print(e.tricks)"
      ],
      "outputs": [
        {
          "output_type": "stream",
          "name": "stdout",
          "text": [
            "['roll over']\n",
            "['play dead']\n"
          ]
        }
      ],
      "metadata": {}
    },
    {
      "cell_type": "markdown",
      "source": [
        "Se miran los atributos de los objetos, como pueden ver se observa que en los atributos de la clase no tenemos name ni tricks dado que son atributos de instancia por lo que solo los veremos en los objetos."
      ],
      "metadata": {}
    },
    {
      "cell_type": "code",
      "execution_count": 60,
      "source": [
        "print(\"Atributos perro d: \\n\", dir(d))\n",
        "print(\"Atributos perro e: \\n\", dir(e))"
      ],
      "outputs": [
        {
          "output_type": "stream",
          "name": "stdout",
          "text": [
            "Atributos perro d: \n",
            " ['__class__', '__delattr__', '__dict__', '__dir__', '__doc__', '__eq__', '__format__', '__ge__', '__getattribute__', '__gt__', '__hash__', '__init__', '__init_subclass__', '__le__', '__lt__', '__module__', '__ne__', '__new__', '__reduce__', '__reduce_ex__', '__repr__', '__setattr__', '__sizeof__', '__str__', '__subclasshook__', '__weakref__', 'add_trick', 'name', 'tricks']\n",
            "Atributos perro e: \n",
            " ['__class__', '__delattr__', '__dict__', '__dir__', '__doc__', '__eq__', '__format__', '__ge__', '__getattribute__', '__gt__', '__hash__', '__init__', '__init_subclass__', '__le__', '__lt__', '__module__', '__ne__', '__new__', '__reduce__', '__reduce_ex__', '__repr__', '__setattr__', '__sizeof__', '__str__', '__subclasshook__', '__weakref__', 'add_trick', 'name', 'tricks']\n"
          ]
        }
      ],
      "metadata": {}
    },
    {
      "cell_type": "markdown",
      "source": [
        "## Tipos de datos cadenas de caracteres"
      ],
      "metadata": {
        "id": "b1z7f42Ufb8q"
      }
    },
    {
      "cell_type": "code",
      "execution_count": 105,
      "source": [
        "print(\"yes\" \" no\")\n",
        "print('\\n')#note el doble enter\n",
        "print(\"yes\" \"no\")\n",
        "print (r\"hola mundo\\n no  tengo en cuenta el fin de linea\\n\")# raw string\n",
        "print(\"\\\\[foo\\\\]\")\n",
        "print(r'\\[foo\\]')"
      ],
      "outputs": [
        {
          "output_type": "stream",
          "name": "stdout",
          "text": [
            "yes no\n",
            "\n",
            "\n",
            "yesno\n",
            "hola mundo\\n no  tengo en cuenta el fin de linea\\n\n",
            "\\[foo\\]\n",
            "\\[foo\\]\n"
          ]
        }
      ],
      "metadata": {}
    },
    {
      "cell_type": "code",
      "execution_count": 76,
      "source": [
        "print(len('Con un palo y 5 ladrillos se pueden hacer mil cosas'))"
      ],
      "outputs": [
        {
          "output_type": "stream",
          "name": "stdout",
          "text": [
            "51\n"
          ]
        }
      ],
      "metadata": {}
    },
    {
      "cell_type": "code",
      "execution_count": 77,
      "source": [
        "\"Con un palo y 5 ladrillos se pueden hacer mil cosas\".upper()"
      ],
      "outputs": [
        {
          "output_type": "execute_result",
          "data": {
            "text/plain": [
              "'CON UN PALO Y 5 LADRILLOS SE PUEDEN HACER MIL COSAS'"
            ]
          },
          "metadata": {},
          "execution_count": 77
        }
      ],
      "metadata": {
        "id": "qA0HtomGfb8r",
        "outputId": "23c765be-b43e-47e3-8e76-bfc6c6df42bc"
      }
    },
    {
      "cell_type": "code",
      "execution_count": 78,
      "source": [
        "\"Con un palo y 5 ladrillos se pueden hacer mil cosas\".find(\"palo\")# el índice no inicia en 1 como en Matlab sino en 0 como en C\n"
      ],
      "outputs": [
        {
          "output_type": "execute_result",
          "data": {
            "text/plain": [
              "7"
            ]
          },
          "metadata": {},
          "execution_count": 78
        }
      ],
      "metadata": {
        "id": "VjmqEDWsfb8s",
        "outputId": "dd6f3dfb-6c67-48a2-eb90-0458c39b5891"
      }
    },
    {
      "cell_type": "code",
      "execution_count": 81,
      "source": [
        "\"Con un palo y 5 ladrillos se pueden hacer mil cosas\".find('Palo') "
      ],
      "outputs": [
        {
          "output_type": "execute_result",
          "data": {
            "text/plain": [
              "-1"
            ]
          },
          "metadata": {},
          "execution_count": 81
        }
      ],
      "metadata": {}
    },
    {
      "cell_type": "code",
      "execution_count": 83,
      "source": [
        "'Con un palo y 5 ladrillos se pueden hacer mil cosas '.replace('5', 'cinco')#.replace('un','1')"
      ],
      "outputs": [
        {
          "output_type": "execute_result",
          "data": {
            "text/plain": [
              "'Con un palo y cinco ladrillos se pueden hacer mil cosas '"
            ]
          },
          "metadata": {},
          "execution_count": 83
        }
      ],
      "metadata": {}
    },
    {
      "cell_type": "code",
      "execution_count": 84,
      "source": [
        "depto = 'Vaupes' \n",
        "\"La capital de %s es %s\" % (depto, \"Mitu\")"
      ],
      "outputs": [
        {
          "output_type": "execute_result",
          "data": {
            "text/plain": [
              "'La capital de Vaupes es Mitu'"
            ]
          },
          "metadata": {},
          "execution_count": 84
        }
      ],
      "metadata": {
        "id": "HOor8-Q-fb8t",
        "outputId": "9806314d-5ce3-430c-a4e5-cc016d968c79"
      }
    },
    {
      "cell_type": "markdown",
      "source": [],
      "metadata": {}
    },
    {
      "cell_type": "markdown",
      "source": [
        "## Tipos de datos Listas"
      ],
      "metadata": {
        "id": "ErR_s7omfb8t"
      }
    },
    {
      "cell_type": "code",
      "execution_count": 96,
      "source": [
        "meses = [\"Enero\", \"Febrero\"] \n",
        "print(type(meses))\n",
        "print(meses[0]) \n",
        "meses.append(\"Marzo\")\n",
        "print(meses) \n",
        "meses.append(\"Abril\")\n",
        "print(meses) \n",
        "meses.append(\"Mayo\")\n",
        "print(meses) \n",
        "meses.append(\"Junio\")\n",
        "print(meses[2:4])#probar con (meses[2:-1]) y con (meses[1:len(meses)])\n",
        "print(meses[2:-1])\n",
        "print(meses[1:len(meses)])"
      ],
      "outputs": [
        {
          "output_type": "stream",
          "name": "stdout",
          "text": [
            "<class 'list'>\n",
            "Enero\n",
            "['Enero', 'Febrero', 'Marzo']\n",
            "['Enero', 'Febrero', 'Marzo', 'Abril']\n",
            "['Enero', 'Febrero', 'Marzo', 'Abril', 'Mayo']\n",
            "['Marzo', 'Abril']\n",
            "['Marzo', 'Abril', 'Mayo']\n",
            "['Febrero', 'Marzo', 'Abril', 'Mayo', 'Junio']\n"
          ]
        }
      ],
      "metadata": {
        "id": "mH9hKX_2fb8t",
        "outputId": "cd80c774-ed99-42df-e180-38e03567f576"
      }
    },
    {
      "cell_type": "code",
      "execution_count": 97,
      "source": [
        "print(meses+meses)"
      ],
      "outputs": [
        {
          "output_type": "stream",
          "name": "stdout",
          "text": [
            "['Enero', 'Febrero', 'Marzo', 'Abril', 'Mayo', 'Junio', 'Enero', 'Febrero', 'Marzo', 'Abril', 'Mayo', 'Junio']\n"
          ]
        }
      ],
      "metadata": {
        "id": "5PNyaOdgfb8t",
        "outputId": "0cb567dd-8e1a-4f8c-cfcf-78b687188c03"
      }
    },
    {
      "cell_type": "code",
      "execution_count": 98,
      "source": [
        "meses.append(1)\n",
        "print(meses)"
      ],
      "outputs": [
        {
          "output_type": "stream",
          "name": "stdout",
          "text": [
            "['Enero', 'Febrero', 'Marzo', 'Abril', 'Mayo', 'Junio', 1]\n"
          ]
        }
      ],
      "metadata": {
        "id": "FiN9q2uefb8u",
        "outputId": "fa8f4150-a97a-4914-d4d4-eb2c125d18bd"
      }
    },
    {
      "cell_type": "code",
      "execution_count": 99,
      "source": [
        "items = [4, 6]\n",
        "print(items)\n",
        "items.insert(0, -1) \n",
        "print(items)\n",
        "items.insert(1, -2) \n",
        "print(items)"
      ],
      "outputs": [
        {
          "output_type": "stream",
          "name": "stdout",
          "text": [
            "[4, 6]\n",
            "[-1, 4, 6]\n",
            "[-1, -2, 4, 6]\n"
          ]
        }
      ],
      "metadata": {
        "id": "g3juziN7fb8u",
        "outputId": "50f569e4-3c0f-47d9-c7d3-37b39bcdf8a2"
      }
    },
    {
      "cell_type": "code",
      "execution_count": 101,
      "source": [
        "items.append(555)  \n",
        "print(items)\n",
        "item=items.pop()  \n",
        "print(items)\n",
        "print(item)\n"
      ],
      "outputs": [
        {
          "output_type": "stream",
          "name": "stdout",
          "text": [
            "[-1, -2, 4, 6, 555]\n",
            "[-1, -2, 4, 6]\n",
            "555\n"
          ]
        }
      ],
      "metadata": {
        "id": "vCV4oX51fb8v",
        "outputId": "5ecb4fac-2103-4701-9d96-857e8e66c650"
      }
    },
    {
      "cell_type": "markdown",
      "source": [
        "Ejercicio: use >>> help(items) y >>> dir(items) para listar la ayuda de el tipo de dato lista, note que items es tipo lista, puede comprobar el tipo de una variable con la función >>> type(items)"
      ],
      "metadata": {
        "id": "u1PiuQHKfb8v"
      }
    },
    {
      "cell_type": "code",
      "execution_count": 102,
      "source": [
        "help(items)"
      ],
      "outputs": [
        {
          "output_type": "stream",
          "name": "stdout",
          "text": [
            "Help on list object:\n",
            "\n",
            "class list(object)\n",
            " |  list(iterable=(), /)\n",
            " |  \n",
            " |  Built-in mutable sequence.\n",
            " |  \n",
            " |  If no argument is given, the constructor creates a new empty list.\n",
            " |  The argument must be an iterable if specified.\n",
            " |  \n",
            " |  Methods defined here:\n",
            " |  \n",
            " |  __add__(self, value, /)\n",
            " |      Return self+value.\n",
            " |  \n",
            " |  __contains__(self, key, /)\n",
            " |      Return key in self.\n",
            " |  \n",
            " |  __delitem__(self, key, /)\n",
            " |      Delete self[key].\n",
            " |  \n",
            " |  __eq__(self, value, /)\n",
            " |      Return self==value.\n",
            " |  \n",
            " |  __ge__(self, value, /)\n",
            " |      Return self>=value.\n",
            " |  \n",
            " |  __getattribute__(self, name, /)\n",
            " |      Return getattr(self, name).\n",
            " |  \n",
            " |  __getitem__(...)\n",
            " |      x.__getitem__(y) <==> x[y]\n",
            " |  \n",
            " |  __gt__(self, value, /)\n",
            " |      Return self>value.\n",
            " |  \n",
            " |  __iadd__(self, value, /)\n",
            " |      Implement self+=value.\n",
            " |  \n",
            " |  __imul__(self, value, /)\n",
            " |      Implement self*=value.\n",
            " |  \n",
            " |  __init__(self, /, *args, **kwargs)\n",
            " |      Initialize self.  See help(type(self)) for accurate signature.\n",
            " |  \n",
            " |  __iter__(self, /)\n",
            " |      Implement iter(self).\n",
            " |  \n",
            " |  __le__(self, value, /)\n",
            " |      Return self<=value.\n",
            " |  \n",
            " |  __len__(self, /)\n",
            " |      Return len(self).\n",
            " |  \n",
            " |  __lt__(self, value, /)\n",
            " |      Return self<value.\n",
            " |  \n",
            " |  __mul__(self, value, /)\n",
            " |      Return self*value.\n",
            " |  \n",
            " |  __ne__(self, value, /)\n",
            " |      Return self!=value.\n",
            " |  \n",
            " |  __repr__(self, /)\n",
            " |      Return repr(self).\n",
            " |  \n",
            " |  __reversed__(self, /)\n",
            " |      Return a reverse iterator over the list.\n",
            " |  \n",
            " |  __rmul__(self, value, /)\n",
            " |      Return value*self.\n",
            " |  \n",
            " |  __setitem__(self, key, value, /)\n",
            " |      Set self[key] to value.\n",
            " |  \n",
            " |  __sizeof__(self, /)\n",
            " |      Return the size of the list in memory, in bytes.\n",
            " |  \n",
            " |  append(self, object, /)\n",
            " |      Append object to the end of the list.\n",
            " |  \n",
            " |  clear(self, /)\n",
            " |      Remove all items from list.\n",
            " |  \n",
            " |  copy(self, /)\n",
            " |      Return a shallow copy of the list.\n",
            " |  \n",
            " |  count(self, value, /)\n",
            " |      Return number of occurrences of value.\n",
            " |  \n",
            " |  extend(self, iterable, /)\n",
            " |      Extend list by appending elements from the iterable.\n",
            " |  \n",
            " |  index(self, value, start=0, stop=9223372036854775807, /)\n",
            " |      Return first index of value.\n",
            " |      \n",
            " |      Raises ValueError if the value is not present.\n",
            " |  \n",
            " |  insert(self, index, object, /)\n",
            " |      Insert object before index.\n",
            " |  \n",
            " |  pop(self, index=-1, /)\n",
            " |      Remove and return item at index (default last).\n",
            " |      \n",
            " |      Raises IndexError if list is empty or index is out of range.\n",
            " |  \n",
            " |  remove(self, value, /)\n",
            " |      Remove first occurrence of value.\n",
            " |      \n",
            " |      Raises ValueError if the value is not present.\n",
            " |  \n",
            " |  reverse(self, /)\n",
            " |      Reverse *IN PLACE*.\n",
            " |  \n",
            " |  sort(self, /, *, key=None, reverse=False)\n",
            " |      Sort the list in ascending order and return None.\n",
            " |      \n",
            " |      The sort is in-place (i.e. the list itself is modified) and stable (i.e. the\n",
            " |      order of two equal elements is maintained).\n",
            " |      \n",
            " |      If a key function is given, apply it once to each list item and sort them,\n",
            " |      ascending or descending, according to their function values.\n",
            " |      \n",
            " |      The reverse flag can be set to sort in descending order.\n",
            " |  \n",
            " |  ----------------------------------------------------------------------\n",
            " |  Static methods defined here:\n",
            " |  \n",
            " |  __new__(*args, **kwargs) from builtins.type\n",
            " |      Create and return a new object.  See help(type) for accurate signature.\n",
            " |  \n",
            " |  ----------------------------------------------------------------------\n",
            " |  Data and other attributes defined here:\n",
            " |  \n",
            " |  __hash__ = None\n",
            "\n"
          ]
        }
      ],
      "metadata": {}
    },
    {
      "cell_type": "code",
      "execution_count": 103,
      "source": [
        "dir(items)"
      ],
      "outputs": [
        {
          "output_type": "execute_result",
          "data": {
            "text/plain": [
              "['__add__',\n",
              " '__class__',\n",
              " '__contains__',\n",
              " '__delattr__',\n",
              " '__delitem__',\n",
              " '__dir__',\n",
              " '__doc__',\n",
              " '__eq__',\n",
              " '__format__',\n",
              " '__ge__',\n",
              " '__getattribute__',\n",
              " '__getitem__',\n",
              " '__gt__',\n",
              " '__hash__',\n",
              " '__iadd__',\n",
              " '__imul__',\n",
              " '__init__',\n",
              " '__init_subclass__',\n",
              " '__iter__',\n",
              " '__le__',\n",
              " '__len__',\n",
              " '__lt__',\n",
              " '__mul__',\n",
              " '__ne__',\n",
              " '__new__',\n",
              " '__reduce__',\n",
              " '__reduce_ex__',\n",
              " '__repr__',\n",
              " '__reversed__',\n",
              " '__rmul__',\n",
              " '__setattr__',\n",
              " '__setitem__',\n",
              " '__sizeof__',\n",
              " '__str__',\n",
              " '__subclasshook__',\n",
              " 'append',\n",
              " 'clear',\n",
              " 'copy',\n",
              " 'count',\n",
              " 'extend',\n",
              " 'index',\n",
              " 'insert',\n",
              " 'pop',\n",
              " 'remove',\n",
              " 'reverse',\n",
              " 'sort']"
            ]
          },
          "metadata": {},
          "execution_count": 103
        }
      ],
      "metadata": {}
    },
    {
      "cell_type": "code",
      "execution_count": 107,
      "source": [
        "type(items)"
      ],
      "outputs": [
        {
          "output_type": "execute_result",
          "data": {
            "text/plain": [
              "list"
            ]
          },
          "metadata": {},
          "execution_count": 107
        }
      ],
      "metadata": {}
    },
    {
      "cell_type": "markdown",
      "source": [
        "## Tipos de datos tuplas"
      ],
      "metadata": {
        "id": "rHMUi_Kofb8w"
      }
    },
    {
      "cell_type": "code",
      "execution_count": 6,
      "source": [
        "mitupla = ('a', 1, \"hola\")\n",
        "print(type(mitupla))\n",
        "print(mitupla[2])"
      ],
      "outputs": [
        {
          "output_type": "stream",
          "name": "stdout",
          "text": [
            "<class 'tuple'>\n",
            "hola\n"
          ]
        }
      ],
      "metadata": {
        "id": "y41yTW7Ffb8w",
        "outputId": "79c1fdc9-73c8-41d5-b58a-dd0a9589ce86"
      }
    },
    {
      "cell_type": "markdown",
      "source": [
        "Ejercicio: use >>> help(mitupla) y >>> dir(mitupla) para listar la ayuda de el tipo de dato tupla, note que mitupla es tipo tuple, puede comprobar el tipo de una variable con la función >>> type(mitupla)"
      ],
      "metadata": {
        "id": "tiJ_i4JVfb8w"
      }
    },
    {
      "cell_type": "code",
      "execution_count": 109,
      "source": [
        "help(mitupla)"
      ],
      "outputs": [
        {
          "output_type": "stream",
          "name": "stdout",
          "text": [
            "Help on tuple object:\n",
            "\n",
            "class tuple(object)\n",
            " |  tuple(iterable=(), /)\n",
            " |  \n",
            " |  Built-in immutable sequence.\n",
            " |  \n",
            " |  If no argument is given, the constructor returns an empty tuple.\n",
            " |  If iterable is specified the tuple is initialized from iterable's items.\n",
            " |  \n",
            " |  If the argument is a tuple, the return value is the same object.\n",
            " |  \n",
            " |  Built-in subclasses:\n",
            " |      asyncgen_hooks\n",
            " |      UnraisableHookArgs\n",
            " |  \n",
            " |  Methods defined here:\n",
            " |  \n",
            " |  __add__(self, value, /)\n",
            " |      Return self+value.\n",
            " |  \n",
            " |  __contains__(self, key, /)\n",
            " |      Return key in self.\n",
            " |  \n",
            " |  __eq__(self, value, /)\n",
            " |      Return self==value.\n",
            " |  \n",
            " |  __ge__(self, value, /)\n",
            " |      Return self>=value.\n",
            " |  \n",
            " |  __getattribute__(self, name, /)\n",
            " |      Return getattr(self, name).\n",
            " |  \n",
            " |  __getitem__(self, key, /)\n",
            " |      Return self[key].\n",
            " |  \n",
            " |  __getnewargs__(self, /)\n",
            " |  \n",
            " |  __gt__(self, value, /)\n",
            " |      Return self>value.\n",
            " |  \n",
            " |  __hash__(self, /)\n",
            " |      Return hash(self).\n",
            " |  \n",
            " |  __iter__(self, /)\n",
            " |      Implement iter(self).\n",
            " |  \n",
            " |  __le__(self, value, /)\n",
            " |      Return self<=value.\n",
            " |  \n",
            " |  __len__(self, /)\n",
            " |      Return len(self).\n",
            " |  \n",
            " |  __lt__(self, value, /)\n",
            " |      Return self<value.\n",
            " |  \n",
            " |  __mul__(self, value, /)\n",
            " |      Return self*value.\n",
            " |  \n",
            " |  __ne__(self, value, /)\n",
            " |      Return self!=value.\n",
            " |  \n",
            " |  __repr__(self, /)\n",
            " |      Return repr(self).\n",
            " |  \n",
            " |  __rmul__(self, value, /)\n",
            " |      Return value*self.\n",
            " |  \n",
            " |  count(self, value, /)\n",
            " |      Return number of occurrences of value.\n",
            " |  \n",
            " |  index(self, value, start=0, stop=9223372036854775807, /)\n",
            " |      Return first index of value.\n",
            " |      \n",
            " |      Raises ValueError if the value is not present.\n",
            " |  \n",
            " |  ----------------------------------------------------------------------\n",
            " |  Static methods defined here:\n",
            " |  \n",
            " |  __new__(*args, **kwargs) from builtins.type\n",
            " |      Create and return a new object.  See help(type) for accurate signature.\n",
            "\n"
          ]
        }
      ],
      "metadata": {}
    },
    {
      "cell_type": "code",
      "execution_count": 110,
      "source": [
        "dir(mitupla)"
      ],
      "outputs": [
        {
          "output_type": "execute_result",
          "data": {
            "text/plain": [
              "['__add__',\n",
              " '__class__',\n",
              " '__contains__',\n",
              " '__delattr__',\n",
              " '__dir__',\n",
              " '__doc__',\n",
              " '__eq__',\n",
              " '__format__',\n",
              " '__ge__',\n",
              " '__getattribute__',\n",
              " '__getitem__',\n",
              " '__getnewargs__',\n",
              " '__gt__',\n",
              " '__hash__',\n",
              " '__init__',\n",
              " '__init_subclass__',\n",
              " '__iter__',\n",
              " '__le__',\n",
              " '__len__',\n",
              " '__lt__',\n",
              " '__mul__',\n",
              " '__ne__',\n",
              " '__new__',\n",
              " '__reduce__',\n",
              " '__reduce_ex__',\n",
              " '__repr__',\n",
              " '__rmul__',\n",
              " '__setattr__',\n",
              " '__sizeof__',\n",
              " '__str__',\n",
              " '__subclasshook__',\n",
              " 'count',\n",
              " 'index']"
            ]
          },
          "metadata": {},
          "execution_count": 110
        }
      ],
      "metadata": {}
    },
    {
      "cell_type": "code",
      "execution_count": 111,
      "source": [
        "type(mitupla)"
      ],
      "outputs": [
        {
          "output_type": "execute_result",
          "data": {
            "text/plain": [
              "tuple"
            ]
          },
          "metadata": {},
          "execution_count": 111
        }
      ],
      "metadata": {}
    },
    {
      "cell_type": "markdown",
      "source": [
        "## Tipos de datos Diccionarios"
      ],
      "metadata": {
        "id": "To63wqQ7fb8x"
      }
    },
    {
      "cell_type": "code",
      "execution_count": 8,
      "source": [
        "mydict = {\"altura\" : \"media\", \"habilidad\" : \"intermedia\", \"salario\" : 1000 } \n",
        "print (mydict )\n",
        "\n",
        "matriz_sparse = {(0,0):1, (0,2):3, (0,4):9}\n",
        "matriz_sparse_2 = {(0,0):1, (0,2):3, (0,4):9}\n",
        "\n",
        "print(matriz_sparse)\n",
        "print(mydict.keys())"
      ],
      "outputs": [
        {
          "output_type": "stream",
          "name": "stdout",
          "text": [
            "{'altura': 'media', 'habilidad': 'intermedia', 'salario': 1000}\n",
            "{(0, 0): 1, (0, 2): 3, (0, 4): 9}\n",
            "dict_keys(['altura', 'habilidad', 'salario'])\n"
          ]
        }
      ],
      "metadata": {
        "id": "YCXM_Nmbfb8x",
        "outputId": "78ef6725-f40b-4bbb-f413-133a1dbc52e4"
      }
    },
    {
      "cell_type": "code",
      "execution_count": 114,
      "source": [
        "#busqueda por keys, las llaves son los indices de los diccionarios\n",
        "print (mydict[\"habilidad\"] )\n",
        "dir (mydict)"
      ],
      "outputs": [
        {
          "output_type": "stream",
          "name": "stdout",
          "text": [
            "intermedia\n"
          ]
        },
        {
          "output_type": "execute_result",
          "data": {
            "text/plain": [
              "['__class__',\n",
              " '__contains__',\n",
              " '__delattr__',\n",
              " '__delitem__',\n",
              " '__dir__',\n",
              " '__doc__',\n",
              " '__eq__',\n",
              " '__format__',\n",
              " '__ge__',\n",
              " '__getattribute__',\n",
              " '__getitem__',\n",
              " '__gt__',\n",
              " '__hash__',\n",
              " '__init__',\n",
              " '__init_subclass__',\n",
              " '__iter__',\n",
              " '__le__',\n",
              " '__len__',\n",
              " '__lt__',\n",
              " '__ne__',\n",
              " '__new__',\n",
              " '__reduce__',\n",
              " '__reduce_ex__',\n",
              " '__repr__',\n",
              " '__reversed__',\n",
              " '__setattr__',\n",
              " '__setitem__',\n",
              " '__sizeof__',\n",
              " '__str__',\n",
              " '__subclasshook__',\n",
              " 'clear',\n",
              " 'copy',\n",
              " 'fromkeys',\n",
              " 'get',\n",
              " 'items',\n",
              " 'keys',\n",
              " 'pop',\n",
              " 'popitem',\n",
              " 'setdefault',\n",
              " 'update',\n",
              " 'values']"
            ]
          },
          "metadata": {},
          "execution_count": 114
        }
      ],
      "metadata": {
        "id": "o_q84B_efb8x",
        "outputId": "178e65a4-46f7-4743-fc69-d1c17d96b8ae"
      }
    },
    {
      "cell_type": "code",
      "execution_count": 116,
      "source": [
        "if 'altura' in mydict:\n",
        "    print ('llave encontrada')\n",
        "    print (mydict[\"altura\"] )"
      ],
      "outputs": [
        {
          "output_type": "stream",
          "name": "stdout",
          "text": [
            "llave encontrada\n",
            "media\n"
          ]
        }
      ],
      "metadata": {
        "id": "8EpJfJDmfb8y",
        "outputId": "b9e4497a-ee7c-4fea-e185-8bf7a0fab304"
      }
    },
    {
      "cell_type": "markdown",
      "source": [
        "Ejercicio. Que pasa si la llave no existe y se intenta indexar?"
      ],
      "metadata": {
        "id": "rhzjdzU-fb8y"
      }
    },
    {
      "cell_type": "code",
      "execution_count": 117,
      "source": [
        "print(mydict[\"nombre\"])"
      ],
      "outputs": [
        {
          "output_type": "error",
          "ename": "KeyError",
          "evalue": "'nombre'",
          "traceback": [
            "\u001b[0;31m---------------------------------------------------------------------------\u001b[0m",
            "\u001b[0;31mKeyError\u001b[0m                                  Traceback (most recent call last)",
            "\u001b[0;32m/tmp/ipykernel_12776/867485127.py\u001b[0m in \u001b[0;36m<module>\u001b[0;34m\u001b[0m\n\u001b[0;32m----> 1\u001b[0;31m \u001b[0mprint\u001b[0m\u001b[0;34m(\u001b[0m\u001b[0mmydict\u001b[0m\u001b[0;34m[\u001b[0m\u001b[0;34m\"nombre\"\u001b[0m\u001b[0;34m]\u001b[0m\u001b[0;34m)\u001b[0m\u001b[0;34m\u001b[0m\u001b[0;34m\u001b[0m\u001b[0m\n\u001b[0m",
            "\u001b[0;31mKeyError\u001b[0m: 'nombre'"
          ]
        }
      ],
      "metadata": {
        "id": "pAryZG39fb8y"
      }
    },
    {
      "cell_type": "markdown",
      "source": [
        "Al indexar una llaver que no exite se genera error, por indexar un elemento que no existe en la memoria."
      ],
      "metadata": {}
    },
    {
      "cell_type": "code",
      "execution_count": 118,
      "source": [
        "if 'nombre' in mydict:\n",
        "    print ('llave encontrada')\n",
        "    print (mydict[\"nombre\"] )\n",
        "else:\n",
        "    print ('llave no existe')"
      ],
      "outputs": [
        {
          "output_type": "stream",
          "name": "stdout",
          "text": [
            "llave no existe\n"
          ]
        }
      ],
      "metadata": {}
    }
  ]
}