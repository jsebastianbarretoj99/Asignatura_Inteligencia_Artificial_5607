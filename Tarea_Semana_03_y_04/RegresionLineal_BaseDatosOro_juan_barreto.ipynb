{
  "nbformat": 4,
  "nbformat_minor": 2,
  "metadata": {
    "colab": {
      "name": "BaseDatosOro.ipynb",
      "provenance": []
    },
    "kernelspec": {
      "name": "python3",
      "display_name": "Python 3.8.10 64-bit"
    },
    "language_info": {
      "name": "python",
      "version": "3.8.10",
      "mimetype": "text/x-python",
      "codemirror_mode": {
        "name": "ipython",
        "version": 3
      },
      "pygments_lexer": "ipython3",
      "nbconvert_exporter": "python",
      "file_extension": ".py"
    },
    "interpreter": {
      "hash": "916dbcbb3f70747c44a77c7bcd40155683ae19c65e1c03b4aa3499c5328201f1"
    }
  },
  "cells": [
    {
      "cell_type": "markdown",
      "source": [
        "<a href=\"https://colab.research.google.com/github/jsebastianbarretoj99/Asignatura_Inteligencia_Artificial_5607/blob/master/Tarea_Semana_03_y_04/RegresionLineal_BaseDatosOro_juan_barreto.ipynb\" target=\"_parent\"><img src=\"https://colab.research.google.com/assets/colab-badge.svg\" alt=\"Open In Colab\"/></a>"
      ],
      "metadata": {}
    },
    {
      "cell_type": "markdown",
      "source": [
        "# Gold Data!!! Forecasting"
      ],
      "metadata": {
        "id": "RgsTEhRlF39V"
      }
    },
    {
      "cell_type": "markdown",
      "source": [
        "Student: Juan Sebastián Barreto Jimenez"
      ],
      "metadata": {}
    },
    {
      "cell_type": "code",
      "execution_count": 2,
      "source": [
        "# Imports of the necessary libraries are carried out\n",
        "import pandas as pd\n",
        "import numpy as np\n",
        "from matplotlib import pyplot as plt\n",
        "from mpl_toolkits.mplot3d import Axes3D"
      ],
      "outputs": [],
      "metadata": {
        "id": "N7tyhnsLGA30"
      }
    },
    {
      "cell_type": "markdown",
      "source": [
        "## Arreglo de datos"
      ],
      "metadata": {}
    },
    {
      "cell_type": "code",
      "execution_count": 3,
      "source": [
        "dataframeGold = pd.read_csv('gold_price_data.csv') # data from https://www.kaggle.com/arashnic/learn-time-series-forecasting-from-gold-price\n",
        "print(dataframeGold.columns)\n",
        "dataframeGold.describe()"
      ],
      "outputs": [
        {
          "output_type": "stream",
          "name": "stdout",
          "text": [
            "Index(['Date', 'Value'], dtype='object')\n"
          ]
        },
        {
          "output_type": "execute_result",
          "data": {
            "text/plain": [
              "              Value\n",
              "count  10787.000000\n",
              "mean     653.596634\n",
              "std      434.030848\n",
              "min       35.100000\n",
              "25%      349.200000\n",
              "50%      409.350000\n",
              "75%     1061.625000\n",
              "max     1895.000000"
            ],
            "text/html": [
              "<div>\n",
              "<style scoped>\n",
              "    .dataframe tbody tr th:only-of-type {\n",
              "        vertical-align: middle;\n",
              "    }\n",
              "\n",
              "    .dataframe tbody tr th {\n",
              "        vertical-align: top;\n",
              "    }\n",
              "\n",
              "    .dataframe thead th {\n",
              "        text-align: right;\n",
              "    }\n",
              "</style>\n",
              "<table border=\"1\" class=\"dataframe\">\n",
              "  <thead>\n",
              "    <tr style=\"text-align: right;\">\n",
              "      <th></th>\n",
              "      <th>Value</th>\n",
              "    </tr>\n",
              "  </thead>\n",
              "  <tbody>\n",
              "    <tr>\n",
              "      <th>count</th>\n",
              "      <td>10787.000000</td>\n",
              "    </tr>\n",
              "    <tr>\n",
              "      <th>mean</th>\n",
              "      <td>653.596634</td>\n",
              "    </tr>\n",
              "    <tr>\n",
              "      <th>std</th>\n",
              "      <td>434.030848</td>\n",
              "    </tr>\n",
              "    <tr>\n",
              "      <th>min</th>\n",
              "      <td>35.100000</td>\n",
              "    </tr>\n",
              "    <tr>\n",
              "      <th>25%</th>\n",
              "      <td>349.200000</td>\n",
              "    </tr>\n",
              "    <tr>\n",
              "      <th>50%</th>\n",
              "      <td>409.350000</td>\n",
              "    </tr>\n",
              "    <tr>\n",
              "      <th>75%</th>\n",
              "      <td>1061.625000</td>\n",
              "    </tr>\n",
              "    <tr>\n",
              "      <th>max</th>\n",
              "      <td>1895.000000</td>\n",
              "    </tr>\n",
              "  </tbody>\n",
              "</table>\n",
              "</div>"
            ]
          },
          "metadata": {},
          "execution_count": 3
        }
      ],
      "metadata": {
        "colab": {
          "base_uri": "https://localhost:8080/",
          "height": 424
        },
        "id": "Opw7aPwUGEoV",
        "outputId": "6433c842-ad8c-46eb-a4bc-3b1911a83df8"
      }
    },
    {
      "cell_type": "code",
      "execution_count": 4,
      "source": [
        "print(dataframeGold.dtypes)\n",
        "dataframeGold.head(10)"
      ],
      "outputs": [
        {
          "output_type": "stream",
          "name": "stdout",
          "text": [
            "Date      object\n",
            "Value    float64\n",
            "dtype: object\n"
          ]
        },
        {
          "output_type": "execute_result",
          "data": {
            "text/plain": [
              "         Date  Value\n",
              "0  1970-01-01   35.2\n",
              "1  1970-04-01   35.1\n",
              "2  1970-07-01   35.4\n",
              "3  1970-10-01   36.2\n",
              "4  1971-01-01   37.4\n",
              "5  1971-04-01   38.9\n",
              "6  1971-07-01   40.1\n",
              "7  1971-10-01   42.0\n",
              "8  1972-01-03   43.5\n",
              "9  1972-04-03   48.3"
            ],
            "text/html": [
              "<div>\n",
              "<style scoped>\n",
              "    .dataframe tbody tr th:only-of-type {\n",
              "        vertical-align: middle;\n",
              "    }\n",
              "\n",
              "    .dataframe tbody tr th {\n",
              "        vertical-align: top;\n",
              "    }\n",
              "\n",
              "    .dataframe thead th {\n",
              "        text-align: right;\n",
              "    }\n",
              "</style>\n",
              "<table border=\"1\" class=\"dataframe\">\n",
              "  <thead>\n",
              "    <tr style=\"text-align: right;\">\n",
              "      <th></th>\n",
              "      <th>Date</th>\n",
              "      <th>Value</th>\n",
              "    </tr>\n",
              "  </thead>\n",
              "  <tbody>\n",
              "    <tr>\n",
              "      <th>0</th>\n",
              "      <td>1970-01-01</td>\n",
              "      <td>35.2</td>\n",
              "    </tr>\n",
              "    <tr>\n",
              "      <th>1</th>\n",
              "      <td>1970-04-01</td>\n",
              "      <td>35.1</td>\n",
              "    </tr>\n",
              "    <tr>\n",
              "      <th>2</th>\n",
              "      <td>1970-07-01</td>\n",
              "      <td>35.4</td>\n",
              "    </tr>\n",
              "    <tr>\n",
              "      <th>3</th>\n",
              "      <td>1970-10-01</td>\n",
              "      <td>36.2</td>\n",
              "    </tr>\n",
              "    <tr>\n",
              "      <th>4</th>\n",
              "      <td>1971-01-01</td>\n",
              "      <td>37.4</td>\n",
              "    </tr>\n",
              "    <tr>\n",
              "      <th>5</th>\n",
              "      <td>1971-04-01</td>\n",
              "      <td>38.9</td>\n",
              "    </tr>\n",
              "    <tr>\n",
              "      <th>6</th>\n",
              "      <td>1971-07-01</td>\n",
              "      <td>40.1</td>\n",
              "    </tr>\n",
              "    <tr>\n",
              "      <th>7</th>\n",
              "      <td>1971-10-01</td>\n",
              "      <td>42.0</td>\n",
              "    </tr>\n",
              "    <tr>\n",
              "      <th>8</th>\n",
              "      <td>1972-01-03</td>\n",
              "      <td>43.5</td>\n",
              "    </tr>\n",
              "    <tr>\n",
              "      <th>9</th>\n",
              "      <td>1972-04-03</td>\n",
              "      <td>48.3</td>\n",
              "    </tr>\n",
              "  </tbody>\n",
              "</table>\n",
              "</div>"
            ]
          },
          "metadata": {},
          "execution_count": 4
        }
      ],
      "metadata": {
        "colab": {
          "base_uri": "https://localhost:8080/",
          "height": 407
        },
        "id": "e7n6GXFSHb5q",
        "outputId": "94e14a9c-1ab5-4bc1-bcb3-87414ced2053"
      }
    },
    {
      "cell_type": "code",
      "execution_count": 5,
      "source": [
        "etiqueta = np.array(dataframeGold['Value'])[2:]\n",
        "car_m1 = np.array(dataframeGold['Value'])[1:-1]\n",
        "car_m2 = np.array(dataframeGold['Value'])[:-2]\n",
        "print(len(etiqueta))\n",
        "print(len(car_m1))\n",
        "print(len(car_m2))"
      ],
      "outputs": [
        {
          "output_type": "stream",
          "name": "stdout",
          "text": [
            "10785\n",
            "10785\n",
            "10785\n"
          ]
        }
      ],
      "metadata": {
        "colab": {
          "base_uri": "https://localhost:8080/"
        },
        "id": "k0kuvBqqIDr9",
        "outputId": "6b4807c8-b806-42a1-a950-6ed2a0f0fff6"
      }
    },
    {
      "cell_type": "code",
      "execution_count": 6,
      "source": [
        "## Agrupando los datos en un único Dataframe y exportándolo a un archivo CSV\n",
        "dataset = pd.DataFrame({'Carac menos 2':car_m2, 'Carac menos 1':car_m1, 'Etiqueta':etiqueta})\n",
        "dataset.to_csv('goldPriceArranged.csv')\n",
        "dataset['Carac menos 1']"
      ],
      "outputs": [
        {
          "output_type": "execute_result",
          "data": {
            "text/plain": [
              "0          35.10\n",
              "1          35.40\n",
              "2          36.20\n",
              "3          37.40\n",
              "4          38.90\n",
              "          ...   \n",
              "10780    1683.65\n",
              "10781    1672.50\n",
              "10782    1655.70\n",
              "10783    1653.75\n",
              "10784    1570.70\n",
              "Name: Carac menos 1, Length: 10785, dtype: float64"
            ]
          },
          "metadata": {},
          "execution_count": 6
        }
      ],
      "metadata": {
        "id": "C_kbWkKeJV0p"
      }
    },
    {
      "cell_type": "code",
      "execution_count": 7,
      "source": [
        "## Pasando los datos a una matriz de tipo numpy\n",
        "matrizDatos = dataset.to_numpy()\n",
        "print(matrizDatos.shape)\n",
        "print(matrizDatos)\n",
        "print(matrizDatos[0][2])"
      ],
      "outputs": [
        {
          "output_type": "stream",
          "name": "stdout",
          "text": [
            "(10785, 3)\n",
            "[[  35.2    35.1    35.4 ]\n",
            " [  35.1    35.4    36.2 ]\n",
            " [  35.4    36.2    37.4 ]\n",
            " ...\n",
            " [1672.5  1655.7  1653.75]\n",
            " [1655.7  1653.75 1570.7 ]\n",
            " [1653.75 1570.7  1562.8 ]]\n",
            "35.4\n"
          ]
        }
      ],
      "metadata": {
        "colab": {
          "base_uri": "https://localhost:8080/"
        },
        "id": "g0aUVperRvwL",
        "outputId": "8cb7ec63-d294-4855-e563-33efbe88d2b8"
      }
    },
    {
      "cell_type": "markdown",
      "source": [
        "## Entrenamieno Regresión lineal"
      ],
      "metadata": {}
    },
    {
      "cell_type": "code",
      "execution_count": 8,
      "source": [
        "#   Function: hypothesis_gold() \n",
        "#   Purpose: Calculate the linear regression hypothesis for gold data-set\n",
        "#   hypothesis: h(x) = theta_0*x0 + theta_1*x1\n",
        "#   Argument:\n",
        "#       theta_0: Parameter theta 0\n",
        "#       theta_1: Parameter theta 1\n",
        "#       x0: evaluated feature one\n",
        "#       x1: evaluated feature two\n",
        "#   Return:\n",
        "#    features   hypothesis of lineal regression\n",
        "def hypothesis_gold(theta_0, theta_1, x0, x1):\n",
        "    return theta_0*x0 + theta_1*x1"
      ],
      "outputs": [],
      "metadata": {}
    },
    {
      "cell_type": "code",
      "execution_count": 9,
      "source": [
        "#   Function: cost_gold() \n",
        "#   Purpose: Calculate cost function for gold data-set\n",
        "#   Argument:\n",
        "#       parameters: Array with parameters theta 0 and theta 1\n",
        "#       features: Array with features of data-set\n",
        "#       labels: Array with labels of data-set\n",
        "#   Return:\n",
        "#       Value of cost function\n",
        "def cost_gold(parameters, features0, features1, labels):\n",
        "    j = ((hypothesis_gold(parameters[0], parameters[1], features0, features1)-labels)**2)\n",
        "    return np.sum(j)/(2*len(features0));"
      ],
      "outputs": [],
      "metadata": {}
    },
    {
      "cell_type": "code",
      "execution_count": 10,
      "source": [
        "#   Function: grid_search_parameters_gold() \n",
        "#   Purpose: Calculate parameters theta 0 and theta 1 in grid search for gold data-set\n",
        "#   Argument:\n",
        "#       features0: Array with features one of data-set\n",
        "#       features1: Array with features two of data-set\n",
        "#       labels: Array with labels of data-set\n",
        "#   Return:\n",
        "#       Array with parameters theta 0 and theta 1\n",
        "def grid_search_parameters_gold(features0, features1, labels):\n",
        "    # Variable creation for calculate parameters theta 0 and theta 1 in grid search\n",
        "    min_j, min_aux, theta_0_min, theta_1_min = 99999, 0, 0, 0\n",
        "    for i in np.arange(-2,2,0.1):\n",
        "        for j in np.arange(-2,2,0.1):\n",
        "            min_aux = cost_gold(np.array([i, j]),features0, features1, labels)\n",
        "            if(min_aux < min_j):\n",
        "                min_j, theta_0_min, theta_1_min = min_aux, i, j\n",
        "    return np.array([theta_0_min, theta_1_min])"
      ],
      "outputs": [],
      "metadata": {}
    },
    {
      "cell_type": "code",
      "execution_count": 11,
      "source": [
        "# data \n",
        "features0 = dataset['Carac menos 2']\n",
        "features1 = dataset['Carac menos 1']\n",
        "labels = dataset['Etiqueta']\n",
        "\n",
        "# Calculate parameters theta 0 and theta 1 in grid search\n",
        "theta = grid_search_parameters_gold(features0, features1, labels)\n",
        "# Theta 0 and theta 1 are displayed calculated\n",
        "print(\"theta_0:\", theta[0],\"thetha_1:\", theta[1], \"Funcion de costo =\",cost_gold(theta, features0, features1, labels))"
      ],
      "outputs": [
        {
          "output_type": "stream",
          "name": "stdout",
          "text": [
            "theta_0: 1.7763568394002505e-15 thetha_1: 1.0000000000000027 Funcion de costo = 40.808982642558796\n"
          ]
        }
      ],
      "metadata": {}
    },
    {
      "cell_type": "code",
      "execution_count": 12,
      "source": [
        "# Test the linea regression with theta 0 and theta 1 calculated\n",
        "labels_estimator = np.array([]);\n",
        "\n",
        "for i, j in zip(features0,features1):\n",
        "    labels_estimator = np.append(labels_estimator, hypothesis_gold(theta[0], theta[1], i, j))"
      ],
      "outputs": [],
      "metadata": {}
    },
    {
      "cell_type": "code",
      "execution_count": 13,
      "source": [
        "# Features are graphed with dataset labels and estimates\n",
        "fig = plt.figure()\n",
        "ax = fig.add_subplot(projection='3d')\n",
        "ax.scatter(features0, features1, labels, label='Datos') # Plot labels vs features1 vs features0\n",
        "ax.scatter(features0, features1, labels_estimator, label='Datos') # Plot labels_estimator vs features1 vs features0\n",
        "plt.xlabel('Features 0: Features minus 2') # Set x label\n",
        "plt.ylabel('Features 1: Features minus 1') # Set y label\n",
        "plt.title('Lineal Regression: Gold value') # Set title\n",
        "plt.show() # Show graph"
      ],
      "outputs": [
        {
          "output_type": "error",
          "ename": "AttributeError",
          "evalue": "'Axes3DSubplot' object has no attribute 'scater'",
          "traceback": [
            "\u001b[0;31m---------------------------------------------------------------------------\u001b[0m",
            "\u001b[0;31mAttributeError\u001b[0m                            Traceback (most recent call last)",
            "\u001b[0;32m/tmp/ipykernel_10161/2486398525.py\u001b[0m in \u001b[0;36m<module>\u001b[0;34m\u001b[0m\n\u001b[1;32m      2\u001b[0m \u001b[0mfig\u001b[0m \u001b[0;34m=\u001b[0m \u001b[0mplt\u001b[0m\u001b[0;34m.\u001b[0m\u001b[0mfigure\u001b[0m\u001b[0;34m(\u001b[0m\u001b[0;34m)\u001b[0m\u001b[0;34m\u001b[0m\u001b[0;34m\u001b[0m\u001b[0m\n\u001b[1;32m      3\u001b[0m \u001b[0max\u001b[0m \u001b[0;34m=\u001b[0m \u001b[0mfig\u001b[0m\u001b[0;34m.\u001b[0m\u001b[0madd_subplot\u001b[0m\u001b[0;34m(\u001b[0m\u001b[0mprojection\u001b[0m\u001b[0;34m=\u001b[0m\u001b[0;34m'3d'\u001b[0m\u001b[0;34m)\u001b[0m\u001b[0;34m\u001b[0m\u001b[0;34m\u001b[0m\u001b[0m\n\u001b[0;32m----> 4\u001b[0;31m \u001b[0max\u001b[0m\u001b[0;34m.\u001b[0m\u001b[0mscater\u001b[0m\u001b[0;34m(\u001b[0m\u001b[0mfeatures0\u001b[0m\u001b[0;34m,\u001b[0m \u001b[0mfeatures1\u001b[0m\u001b[0;34m,\u001b[0m \u001b[0mlabels\u001b[0m\u001b[0;34m,\u001b[0m \u001b[0mlabel\u001b[0m\u001b[0;34m=\u001b[0m\u001b[0;34m'Datos'\u001b[0m\u001b[0;34m)\u001b[0m \u001b[0;31m# Plot labels vs features1 vs features0\u001b[0m\u001b[0;34m\u001b[0m\u001b[0;34m\u001b[0m\u001b[0m\n\u001b[0m\u001b[1;32m      5\u001b[0m \u001b[0max\u001b[0m\u001b[0;34m.\u001b[0m\u001b[0mscater\u001b[0m\u001b[0;34m(\u001b[0m\u001b[0mfeatures0\u001b[0m\u001b[0;34m,\u001b[0m \u001b[0mfeatures1\u001b[0m\u001b[0;34m,\u001b[0m \u001b[0mlabels_estimator\u001b[0m\u001b[0;34m,\u001b[0m \u001b[0mlabel\u001b[0m\u001b[0;34m=\u001b[0m\u001b[0;34m'Datos'\u001b[0m\u001b[0;34m)\u001b[0m \u001b[0;31m# Plot labels_estimator vs features1 vs features0\u001b[0m\u001b[0;34m\u001b[0m\u001b[0;34m\u001b[0m\u001b[0m\n\u001b[1;32m      6\u001b[0m \u001b[0mplt\u001b[0m\u001b[0;34m.\u001b[0m\u001b[0mxlabel\u001b[0m\u001b[0;34m(\u001b[0m\u001b[0;34m'Features 0: Features minus 2'\u001b[0m\u001b[0;34m)\u001b[0m \u001b[0;31m# Set x label\u001b[0m\u001b[0;34m\u001b[0m\u001b[0;34m\u001b[0m\u001b[0m\n",
            "\u001b[0;31mAttributeError\u001b[0m: 'Axes3DSubplot' object has no attribute 'scater'"
          ]
        },
        {
          "output_type": "display_data",
          "data": {
            "text/plain": [
              "<Figure size 432x288 with 1 Axes>"
            ],
            "image/svg+xml": "<?xml version=\"1.0\" encoding=\"utf-8\" standalone=\"no\"?>\n<!DOCTYPE svg PUBLIC \"-//W3C//DTD SVG 1.1//EN\"\n  \"http://www.w3.org/Graphics/SVG/1.1/DTD/svg11.dtd\">\n<svg height=\"243.637805pt\" version=\"1.1\" viewBox=\"0 0 248.84211 243.637805\" width=\"248.84211pt\" xmlns=\"http://www.w3.org/2000/svg\" xmlns:xlink=\"http://www.w3.org/1999/xlink\">\n <metadata>\n  <rdf:RDF xmlns:cc=\"http://creativecommons.org/ns#\" xmlns:dc=\"http://purl.org/dc/elements/1.1/\" xmlns:rdf=\"http://www.w3.org/1999/02/22-rdf-syntax-ns#\">\n   <cc:Work>\n    <dc:type rdf:resource=\"http://purl.org/dc/dcmitype/StillImage\"/>\n    <dc:date>2021-08-19T14:20:20.348394</dc:date>\n    <dc:format>image/svg+xml</dc:format>\n    <dc:creator>\n     <cc:Agent>\n      <dc:title>Matplotlib v3.4.2, https://matplotlib.org/</dc:title>\n     </cc:Agent>\n    </dc:creator>\n   </cc:Work>\n  </rdf:RDF>\n </metadata>\n <defs>\n  <style type=\"text/css\">*{stroke-linecap:butt;stroke-linejoin:round;}</style>\n </defs>\n <g id=\"figure_1\">\n  <g id=\"patch_1\">\n   <path d=\"M 0 243.637805 \nL 248.84211 243.637805 \nL 248.84211 0 \nL 0 0 \nz\n\" style=\"fill:none;\"/>\n  </g>\n  <g id=\"patch_2\">\n   <path d=\"M 7.2 224.64 \nL 224.64 224.64 \nL 224.64 7.2 \nL 7.2 7.2 \nz\n\" style=\"fill:#ffffff;\"/>\n  </g>\n  <g id=\"pane3d_1\">\n   <g id=\"patch_3\">\n    <path d=\"M 23.61822 171.026264 \nL 95.424009 110.837228 \nL 94.42584 24.033878 \nL 19.183773 78.942111 \n\" style=\"fill:#f2f2f2;opacity:0.5;stroke:#f2f2f2;stroke-linejoin:miter;\"/>\n   </g>\n  </g>\n  <g id=\"pane3d_2\">\n   <g id=\"patch_4\">\n    <path d=\"M 95.424009 110.837228 \nL 210.64668 144.32791 \nL 214.758571 54.534718 \nL 94.42584 24.033878 \n\" style=\"fill:#e6e6e6;opacity:0.5;stroke:#e6e6e6;stroke-linejoin:miter;\"/>\n   </g>\n  </g>\n  <g id=\"pane3d_3\">\n   <g id=\"patch_5\">\n    <path d=\"M 23.61822 171.026264 \nL 145.759879 210.91773 \nL 210.64668 144.32791 \nL 95.424009 110.837228 \n\" style=\"fill:#ececec;opacity:0.5;stroke:#ececec;stroke-linejoin:miter;\"/>\n   </g>\n  </g>\n  <g id=\"axis3d_1\">\n   <g id=\"line2d_1\">\n    <path d=\"M 23.61822 171.026264 \nL 145.759879 210.91773 \n\" style=\"fill:none;stroke:#000000;stroke-linecap:square;stroke-width:0.8;\"/>\n   </g>\n   <g id=\"Line3DCollection_1\">\n    <path d=\"M 25.937943 171.783886 \nL 97.621825 111.476046 \nL 96.716379 24.614463 \n\" style=\"fill:none;stroke:#b0b0b0;stroke-width:0.8;\"/>\n    <path d=\"M 48.452495 179.137139 \nL 118.934002 117.670655 \nL 118.937257 30.246808 \n\" style=\"fill:none;stroke:#b0b0b0;stroke-width:0.8;\"/>\n    <path d=\"M 71.420599 186.638521 \nL 140.639748 123.979658 \nL 141.586318 35.987684 \n\" style=\"fill:none;stroke:#b0b0b0;stroke-width:0.8;\"/>\n    <path d=\"M 94.856099 194.292556 \nL 162.750067 130.406255 \nL 164.676058 41.84026 \n\" style=\"fill:none;stroke:#b0b0b0;stroke-width:0.8;\"/>\n    <path d=\"M 118.77341 202.103949 \nL 185.276376 136.953764 \nL 188.219464 47.807828 \n\" style=\"fill:none;stroke:#b0b0b0;stroke-width:0.8;\"/>\n    <path d=\"M 143.187543 210.077605 \nL 208.230526 143.625629 \nL 212.230042 53.893809 \n\" style=\"fill:none;stroke:#b0b0b0;stroke-width:0.8;\"/>\n   </g>\n   <g id=\"xtick_1\">\n    <g id=\"line2d_2\">\n     <path d=\"M 26.562049 171.258825 \nL 24.687061 172.836257 \n\" style=\"fill:none;stroke:#000000;stroke-linecap:square;stroke-width:0.8;\"/>\n    </g>\n    <g id=\"text_1\">\n     <!-- 0.0 -->\n     <g transform=\"translate(10.44498 195.063141)scale(0.1 -0.1)\">\n      <defs>\n       <path d=\"M 2034 4250 \nQ 1547 4250 1301 3770 \nQ 1056 3291 1056 2328 \nQ 1056 1369 1301 889 \nQ 1547 409 2034 409 \nQ 2525 409 2770 889 \nQ 3016 1369 3016 2328 \nQ 3016 3291 2770 3770 \nQ 2525 4250 2034 4250 \nz\nM 2034 4750 \nQ 2819 4750 3233 4129 \nQ 3647 3509 3647 2328 \nQ 3647 1150 3233 529 \nQ 2819 -91 2034 -91 \nQ 1250 -91 836 529 \nQ 422 1150 422 2328 \nQ 422 3509 836 4129 \nQ 1250 4750 2034 4750 \nz\n\" id=\"DejaVuSans-30\" transform=\"scale(0.015625)\"/>\n       <path d=\"M 684 794 \nL 1344 794 \nL 1344 0 \nL 684 0 \nL 684 794 \nz\n\" id=\"DejaVuSans-2e\" transform=\"scale(0.015625)\"/>\n      </defs>\n      <use xlink:href=\"#DejaVuSans-30\"/>\n      <use x=\"63.623047\" xlink:href=\"#DejaVuSans-2e\"/>\n      <use x=\"95.410156\" xlink:href=\"#DejaVuSans-30\"/>\n     </g>\n    </g>\n   </g>\n   <g id=\"xtick_2\">\n    <g id=\"line2d_3\">\n     <path d=\"M 49.066628 178.601557 \nL 47.221573 180.210618 \n\" style=\"fill:none;stroke:#000000;stroke-linecap:square;stroke-width:0.8;\"/>\n    </g>\n    <g id=\"text_2\">\n     <!-- 0.2 -->\n     <g transform=\"translate(32.987289 202.607219)scale(0.1 -0.1)\">\n      <defs>\n       <path d=\"M 1228 531 \nL 3431 531 \nL 3431 0 \nL 469 0 \nL 469 531 \nQ 828 903 1448 1529 \nQ 2069 2156 2228 2338 \nQ 2531 2678 2651 2914 \nQ 2772 3150 2772 3378 \nQ 2772 3750 2511 3984 \nQ 2250 4219 1831 4219 \nQ 1534 4219 1204 4116 \nQ 875 4013 500 3803 \nL 500 4441 \nQ 881 4594 1212 4672 \nQ 1544 4750 1819 4750 \nQ 2544 4750 2975 4387 \nQ 3406 4025 3406 3419 \nQ 3406 3131 3298 2873 \nQ 3191 2616 2906 2266 \nQ 2828 2175 2409 1742 \nQ 1991 1309 1228 531 \nz\n\" id=\"DejaVuSans-32\" transform=\"scale(0.015625)\"/>\n      </defs>\n      <use xlink:href=\"#DejaVuSans-30\"/>\n      <use x=\"63.623047\" xlink:href=\"#DejaVuSans-2e\"/>\n      <use x=\"95.410156\" xlink:href=\"#DejaVuSans-32\"/>\n     </g>\n    </g>\n   </g>\n   <g id=\"xtick_3\">\n    <g id=\"line2d_4\">\n     <path d=\"M 72.02423 186.0921 \nL 70.210701 187.733751 \n\" style=\"fill:none;stroke:#000000;stroke-linecap:square;stroke-width:0.8;\"/>\n    </g>\n    <g id=\"text_3\">\n     <!-- 0.4 -->\n     <g transform=\"translate(55.985814 210.303976)scale(0.1 -0.1)\">\n      <defs>\n       <path d=\"M 2419 4116 \nL 825 1625 \nL 2419 1625 \nL 2419 4116 \nz\nM 2253 4666 \nL 3047 4666 \nL 3047 1625 \nL 3713 1625 \nL 3713 1100 \nL 3047 1100 \nL 3047 0 \nL 2419 0 \nL 2419 1100 \nL 313 1100 \nL 313 1709 \nL 2253 4666 \nz\n\" id=\"DejaVuSans-34\" transform=\"scale(0.015625)\"/>\n      </defs>\n      <use xlink:href=\"#DejaVuSans-30\"/>\n      <use x=\"63.623047\" xlink:href=\"#DejaVuSans-2e\"/>\n      <use x=\"95.410156\" xlink:href=\"#DejaVuSans-34\"/>\n     </g>\n    </g>\n   </g>\n   <g id=\"xtick_4\">\n    <g id=\"line2d_5\">\n     <path d=\"M 95.448671 193.734962 \nL 93.668341 195.410203 \n\" style=\"fill:none;stroke:#000000;stroke-linecap:square;stroke-width:0.8;\"/>\n    </g>\n    <g id=\"text_4\">\n     <!-- 0.6 -->\n     <g transform=\"translate(79.454546 218.158093)scale(0.1 -0.1)\">\n      <defs>\n       <path d=\"M 2113 2584 \nQ 1688 2584 1439 2293 \nQ 1191 2003 1191 1497 \nQ 1191 994 1439 701 \nQ 1688 409 2113 409 \nQ 2538 409 2786 701 \nQ 3034 994 3034 1497 \nQ 3034 2003 2786 2293 \nQ 2538 2584 2113 2584 \nz\nM 3366 4563 \nL 3366 3988 \nQ 3128 4100 2886 4159 \nQ 2644 4219 2406 4219 \nQ 1781 4219 1451 3797 \nQ 1122 3375 1075 2522 \nQ 1259 2794 1537 2939 \nQ 1816 3084 2150 3084 \nQ 2853 3084 3261 2657 \nQ 3669 2231 3669 1497 \nQ 3669 778 3244 343 \nQ 2819 -91 2113 -91 \nQ 1303 -91 875 529 \nQ 447 1150 447 2328 \nQ 447 3434 972 4092 \nQ 1497 4750 2381 4750 \nQ 2619 4750 2861 4703 \nQ 3103 4656 3366 4563 \nz\n\" id=\"DejaVuSans-36\" transform=\"scale(0.015625)\"/>\n      </defs>\n      <use xlink:href=\"#DejaVuSans-30\"/>\n      <use x=\"63.623047\" xlink:href=\"#DejaVuSans-2e\"/>\n      <use x=\"95.410156\" xlink:href=\"#DejaVuSans-36\"/>\n     </g>\n    </g>\n   </g>\n   <g id=\"xtick_5\">\n    <g id=\"line2d_6\">\n     <path d=\"M 119.354338 201.534838 \nL 117.608963 203.244709 \n\" style=\"fill:none;stroke:#000000;stroke-linecap:square;stroke-width:0.8;\"/>\n    </g>\n    <g id=\"text_5\">\n     <!-- 0.8 -->\n     <g transform=\"translate(103.408053 226.174448)scale(0.1 -0.1)\">\n      <defs>\n       <path d=\"M 2034 2216 \nQ 1584 2216 1326 1975 \nQ 1069 1734 1069 1313 \nQ 1069 891 1326 650 \nQ 1584 409 2034 409 \nQ 2484 409 2743 651 \nQ 3003 894 3003 1313 \nQ 3003 1734 2745 1975 \nQ 2488 2216 2034 2216 \nz\nM 1403 2484 \nQ 997 2584 770 2862 \nQ 544 3141 544 3541 \nQ 544 4100 942 4425 \nQ 1341 4750 2034 4750 \nQ 2731 4750 3128 4425 \nQ 3525 4100 3525 3541 \nQ 3525 3141 3298 2862 \nQ 3072 2584 2669 2484 \nQ 3125 2378 3379 2068 \nQ 3634 1759 3634 1313 \nQ 3634 634 3220 271 \nQ 2806 -91 2034 -91 \nQ 1263 -91 848 271 \nQ 434 634 434 1313 \nQ 434 1759 690 2068 \nQ 947 2378 1403 2484 \nz\nM 1172 3481 \nQ 1172 3119 1398 2916 \nQ 1625 2713 2034 2713 \nQ 2441 2713 2670 2916 \nQ 2900 3119 2900 3481 \nQ 2900 3844 2670 4047 \nQ 2441 4250 2034 4250 \nQ 1625 4250 1398 4047 \nQ 1172 3844 1172 3481 \nz\n\" id=\"DejaVuSans-38\" transform=\"scale(0.015625)\"/>\n      </defs>\n      <use xlink:href=\"#DejaVuSans-30\"/>\n      <use x=\"63.623047\" xlink:href=\"#DejaVuSans-2e\"/>\n      <use x=\"95.410156\" xlink:href=\"#DejaVuSans-38\"/>\n     </g>\n    </g>\n   </g>\n   <g id=\"xtick_6\">\n    <g id=\"line2d_7\">\n     <path d=\"M 143.756215 209.496615 \nL 142.047639 211.242203 \n\" style=\"fill:none;stroke:#000000;stroke-linecap:square;stroke-width:0.8;\"/>\n    </g>\n    <g id=\"text_6\">\n     <!-- 1.0 -->\n     <g transform=\"translate(127.861515 234.358118)scale(0.1 -0.1)\">\n      <defs>\n       <path d=\"M 794 531 \nL 1825 531 \nL 1825 4091 \nL 703 3866 \nL 703 4441 \nL 1819 4666 \nL 2450 4666 \nL 2450 531 \nL 3481 531 \nL 3481 0 \nL 794 0 \nL 794 531 \nz\n\" id=\"DejaVuSans-31\" transform=\"scale(0.015625)\"/>\n      </defs>\n      <use xlink:href=\"#DejaVuSans-31\"/>\n      <use x=\"63.623047\" xlink:href=\"#DejaVuSans-2e\"/>\n      <use x=\"95.410156\" xlink:href=\"#DejaVuSans-30\"/>\n     </g>\n    </g>\n   </g>\n  </g>\n  <g id=\"axis3d_2\">\n   <g id=\"line2d_8\">\n    <path d=\"M 210.64668 144.32791 \nL 145.759879 210.91773 \n\" style=\"fill:none;stroke:#000000;stroke-linecap:square;stroke-width:0.8;\"/>\n   </g>\n   <g id=\"Line3DCollection_2\">\n    <path d=\"M 20.825689 77.743915 \nL 25.179341 169.717702 \nL 147.176681 209.463743 \n\" style=\"fill:none;stroke:#b0b0b0;stroke-width:0.8;\"/>\n    <path d=\"M 36.282933 66.463923 \nL 39.888635 157.38808 \nL 160.512791 195.777613 \n\" style=\"fill:none;stroke:#b0b0b0;stroke-width:0.8;\"/>\n    <path d=\"M 51.207487 55.572663 \nL 54.112785 145.465115 \nL 173.386098 182.566433 \n\" style=\"fill:none;stroke:#b0b0b0;stroke-width:0.8;\"/>\n    <path d=\"M 65.626422 45.050381 \nL 67.875404 133.929014 \nL 185.820282 169.805901 \n\" style=\"fill:none;stroke:#b0b0b0;stroke-width:0.8;\"/>\n    <path d=\"M 79.565004 34.878639 \nL 81.198597 122.761251 \nL 197.837435 157.473346 \n\" style=\"fill:none;stroke:#b0b0b0;stroke-width:0.8;\"/>\n    <path d=\"M 93.046844 25.040206 \nL 94.103077 111.944459 \nL 209.458191 145.547592 \n\" style=\"fill:none;stroke:#b0b0b0;stroke-width:0.8;\"/>\n   </g>\n   <g id=\"xtick_7\">\n    <g id=\"line2d_9\">\n     <path d=\"M 146.148393 209.128732 \nL 149.235927 210.134634 \n\" style=\"fill:none;stroke:#000000;stroke-linecap:square;stroke-width:0.8;\"/>\n    </g>\n    <g id=\"text_7\">\n     <!-- 0.0 -->\n     <g transform=\"translate(152.157885 230.544479)scale(0.1 -0.1)\">\n      <use xlink:href=\"#DejaVuSans-30\"/>\n      <use x=\"63.623047\" xlink:href=\"#DejaVuSans-2e\"/>\n      <use x=\"95.410156\" xlink:href=\"#DejaVuSans-30\"/>\n     </g>\n    </g>\n   </g>\n   <g id=\"xtick_8\">\n    <g id=\"line2d_10\">\n     <path d=\"M 159.49699 195.454327 \nL 162.546984 196.42501 \n\" style=\"fill:none;stroke:#000000;stroke-linecap:square;stroke-width:0.8;\"/>\n    </g>\n    <g id=\"text_8\">\n     <!-- 0.2 -->\n     <g transform=\"translate(165.275105 216.610214)scale(0.1 -0.1)\">\n      <use xlink:href=\"#DejaVuSans-30\"/>\n      <use x=\"63.623047\" xlink:href=\"#DejaVuSans-2e\"/>\n      <use x=\"95.410156\" xlink:href=\"#DejaVuSans-32\"/>\n     </g>\n    </g>\n   </g>\n   <g id=\"xtick_9\">\n    <g id=\"line2d_11\">\n     <path d=\"M 172.382544 182.254266 \nL 175.395721 183.191549 \n\" style=\"fill:none;stroke:#000000;stroke-linecap:square;stroke-width:0.8;\"/>\n    </g>\n    <g id=\"text_9\">\n     <!-- 0.4 -->\n     <g transform=\"translate(177.936795 203.159854)scale(0.1 -0.1)\">\n      <use xlink:href=\"#DejaVuSans-30\"/>\n      <use x=\"63.623047\" xlink:href=\"#DejaVuSans-2e\"/>\n      <use x=\"95.410156\" xlink:href=\"#DejaVuSans-34\"/>\n     </g>\n    </g>\n   </g>\n   <g id=\"xtick_10\">\n    <g id=\"line2d_12\">\n     <path d=\"M 184.828738 169.50429 \nL 187.805814 170.409867 \n\" style=\"fill:none;stroke:#000000;stroke-linecap:square;stroke-width:0.8;\"/>\n    </g>\n    <g id=\"text_10\">\n     <!-- 0.6 -->\n     <g transform=\"translate(190.166279 190.168621)scale(0.1 -0.1)\">\n      <use xlink:href=\"#DejaVuSans-30\"/>\n      <use x=\"63.623047\" xlink:href=\"#DejaVuSans-2e\"/>\n      <use x=\"95.410156\" xlink:href=\"#DejaVuSans-36\"/>\n     </g>\n    </g>\n   </g>\n   <g id=\"xtick_11\">\n    <g id=\"line2d_13\">\n     <path d=\"M 196.857666 157.181763 \nL 199.799347 158.057217 \n\" style=\"fill:none;stroke:#000000;stroke-linecap:square;stroke-width:0.8;\"/>\n    </g>\n    <g id=\"text_11\">\n     <!-- 0.8 -->\n     <g transform=\"translate(201.985316 177.613401)scale(0.1 -0.1)\">\n      <use xlink:href=\"#DejaVuSans-30\"/>\n      <use x=\"63.623047\" xlink:href=\"#DejaVuSans-2e\"/>\n      <use x=\"95.410156\" xlink:href=\"#DejaVuSans-38\"/>\n     </g>\n    </g>\n   </g>\n   <g id=\"xtick_12\">\n    <g id=\"line2d_14\">\n     <path d=\"M 208.489966 145.265546 \nL 211.396948 146.112355 \n\" style=\"fill:none;stroke:#000000;stroke-linecap:square;stroke-width:0.8;\"/>\n    </g>\n    <g id=\"text_12\">\n     <!-- 1.0 -->\n     <g transform=\"translate(213.414227 165.472607)scale(0.1 -0.1)\">\n      <use xlink:href=\"#DejaVuSans-31\"/>\n      <use x=\"63.623047\" xlink:href=\"#DejaVuSans-2e\"/>\n      <use x=\"95.410156\" xlink:href=\"#DejaVuSans-30\"/>\n     </g>\n    </g>\n   </g>\n  </g>\n  <g id=\"axis3d_3\">\n   <g id=\"line2d_15\">\n    <path d=\"M 210.64668 144.32791 \nL 214.758571 54.534718 \n\" style=\"fill:none;stroke:#000000;stroke-linecap:square;stroke-width:0.8;\"/>\n   </g>\n   <g id=\"Line3DCollection_3\">\n    <path d=\"M 210.725459 142.607571 \nL 95.404845 109.170725 \nL 23.533401 169.264949 \n\" style=\"fill:none;stroke:#b0b0b0;stroke-width:0.8;\"/>\n    <path d=\"M 211.488678 125.940826 \nL 95.219269 93.03252 \nL 22.711388 152.195327 \n\" style=\"fill:none;stroke:#b0b0b0;stroke-width:0.8;\"/>\n    <path d=\"M 212.264684 108.99483 \nL 95.030732 76.63689 \nL 21.875076 134.828753 \n\" style=\"fill:none;stroke:#b0b0b0;stroke-width:0.8;\"/>\n    <path d=\"M 213.053803 91.762507 \nL 94.839164 59.977627 \nL 21.024086 117.15741 \n\" style=\"fill:none;stroke:#b0b0b0;stroke-width:0.8;\"/>\n    <path d=\"M 213.856368 74.236538 \nL 94.64449 43.048321 \nL 20.158031 99.173203 \n\" style=\"fill:none;stroke:#b0b0b0;stroke-width:0.8;\"/>\n    <path d=\"M 214.672726 56.409352 \nL 94.446636 25.842351 \nL 19.276505 80.867751 \n\" style=\"fill:none;stroke:#b0b0b0;stroke-width:0.8;\"/>\n   </g>\n   <g id=\"xtick_13\">\n    <g id=\"line2d_16\">\n     <path d=\"M 209.757563 142.326933 \nL 212.663556 143.169516 \n\" style=\"fill:none;stroke:#000000;stroke-linecap:square;stroke-width:0.8;\"/>\n    </g>\n    <g id=\"text_13\">\n     <!-- 0.0 -->\n     <g transform=\"translate(221.025603 147.606846)scale(0.1 -0.1)\">\n      <use xlink:href=\"#DejaVuSans-30\"/>\n      <use x=\"63.623047\" xlink:href=\"#DejaVuSans-2e\"/>\n      <use x=\"95.410156\" xlink:href=\"#DejaVuSans-30\"/>\n     </g>\n    </g>\n   </g>\n   <g id=\"xtick_14\">\n    <g id=\"line2d_17\">\n     <path d=\"M 210.512439 125.664516 \nL 213.4435 126.494108 \n\" style=\"fill:none;stroke:#000000;stroke-linecap:square;stroke-width:0.8;\"/>\n    </g>\n    <g id=\"text_14\">\n     <!-- 0.2 -->\n     <g transform=\"translate(221.937068 130.98026)scale(0.1 -0.1)\">\n      <use xlink:href=\"#DejaVuSans-30\"/>\n      <use x=\"63.623047\" xlink:href=\"#DejaVuSans-2e\"/>\n      <use x=\"95.410156\" xlink:href=\"#DejaVuSans-32\"/>\n     </g>\n    </g>\n   </g>\n   <g id=\"xtick_15\">\n    <g id=\"line2d_18\">\n     <path d=\"M 211.279957 108.723034 \nL 214.236522 109.53908 \n\" style=\"fill:none;stroke:#000000;stroke-linecap:square;stroke-width:0.8;\"/>\n    </g>\n    <g id=\"text_15\">\n     <!-- 0.4 -->\n     <g transform=\"translate(222.863749 114.076137)scale(0.1 -0.1)\">\n      <use xlink:href=\"#DejaVuSans-30\"/>\n      <use x=\"63.623047\" xlink:href=\"#DejaVuSans-2e\"/>\n      <use x=\"95.410156\" xlink:href=\"#DejaVuSans-34\"/>\n     </g>\n    </g>\n   </g>\n   <g id=\"xtick_16\">\n    <g id=\"line2d_19\">\n     <path d=\"M 212.060439 91.495417 \nL 215.042954 92.297339 \n\" style=\"fill:none;stroke:#000000;stroke-linecap:square;stroke-width:0.8;\"/>\n    </g>\n    <g id=\"text_16\">\n     <!-- 0.6 -->\n     <g transform=\"translate(223.806028 96.887468)scale(0.1 -0.1)\">\n      <use xlink:href=\"#DejaVuSans-30\"/>\n      <use x=\"63.623047\" xlink:href=\"#DejaVuSans-2e\"/>\n      <use x=\"95.410156\" xlink:href=\"#DejaVuSans-36\"/>\n     </g>\n    </g>\n   </g>\n   <g id=\"xtick_17\">\n    <g id=\"line2d_20\">\n     <path d=\"M 212.854215 73.974354 \nL 215.86314 74.761549 \n\" style=\"fill:none;stroke:#000000;stroke-linecap:square;stroke-width:0.8;\"/>\n    </g>\n    <g id=\"text_17\">\n     <!-- 0.8 -->\n     <g transform=\"translate(224.764303 79.407009)scale(0.1 -0.1)\">\n      <use xlink:href=\"#DejaVuSans-30\"/>\n      <use x=\"63.623047\" xlink:href=\"#DejaVuSans-2e\"/>\n      <use x=\"95.410156\" xlink:href=\"#DejaVuSans-38\"/>\n     </g>\n    </g>\n   </g>\n   <g id=\"xtick_18\">\n    <g id=\"line2d_21\">\n     <path d=\"M 213.661628 56.152284 \nL 216.697433 56.924126 \n\" style=\"fill:none;stroke:#000000;stroke-linecap:square;stroke-width:0.8;\"/>\n    </g>\n    <g id=\"text_18\">\n     <!-- 1.0 -->\n     <g transform=\"translate(225.738985 61.627265)scale(0.1 -0.1)\">\n      <use xlink:href=\"#DejaVuSans-31\"/>\n      <use x=\"63.623047\" xlink:href=\"#DejaVuSans-2e\"/>\n      <use x=\"95.410156\" xlink:href=\"#DejaVuSans-30\"/>\n     </g>\n    </g>\n   </g>\n  </g>\n  <g id=\"axes_1\"/>\n </g>\n</svg>\n",
            "image/png": "[encoded data removed]"
          },
          "metadata": {
            "needs_background": "light"
          }
        }
      ],
      "metadata": {}
    }
  ]
}